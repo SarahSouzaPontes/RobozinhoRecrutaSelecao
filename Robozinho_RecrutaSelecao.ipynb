{
  "nbformat": 4,
  "nbformat_minor": 0,
  "metadata": {
    "colab": {
      "provenance": [],
      "authorship_tag": "ABX9TyNEwNDXPrRSIxe6Fe52i5tt",
      "include_colab_link": true
    },
    "kernelspec": {
      "name": "python3",
      "display_name": "Python 3"
    },
    "language_info": {
      "name": "python"
    }
  },
  "cells": [
    {
      "cell_type": "markdown",
      "metadata": {
        "id": "view-in-github",
        "colab_type": "text"
      },
      "source": [
        "<a href=\"https://colab.research.google.com/github/SarahSouzaPontes/RobozinhoRecrutaSelecao/blob/main/Robozinho_RecrutaSelecao.ipynb\" target=\"_parent\"><img src=\"https://colab.research.google.com/assets/colab-badge.svg\" alt=\"Open In Colab\"/></a>"
      ]
    },
    {
      "cell_type": "code",
      "execution_count": null,
      "metadata": {
        "id": "353HoG8Ekg1N"
      },
      "outputs": [],
      "source": [
        "import re\n",
        "import matplotlib.pyplot as plt\n",
        "from wordcloud import WordCloud\n",
        "from collections import Counter\n",
        "\n",
        "# Lista de conectivos a serem excluídos\n",
        "conectivos = [\n",
        "    \"primeiramente\", \"é\", \"de\", \"para\", \"e\", \"mas\", \"com\", \"em\", \"um\", \"m\", \"porém\",\n",
        "    \"em primeiro lugar\", \"antes de mais nada\", \"antes de tudo\",\n",
        "    \"acima de tudo\", \"para começar\", \"sobretudo\", \"principalmente\", \"outro\", \"outras\", \"ser\", \"deve\", \"o\", \"a\", \"os\", \"as\", \"à\", \"se\",\"á\", \"ter\", \"tua\", \"sua\", \"seus\", \"\" \"nossa\", \"nisso\", \"so\", \"so\", \"pois\", \"que\", \"nao\", \"no\", \"na\", \"das\", \"dos\", \"de\", \"do\", \"da\", \"por\", \"isso\", \"esse\", \"isto\", \"este\",\"primordialmente\",\n",
        "    # ... adicione os demais conectivos aqui\n",
        "]\n",
        "\n",
        "def remove_conectivos_isolados(texto):\n",
        "    for conectivo in conectivos:\n",
        "        # Usar expressão regular para encontrar o conectivo isolado\n",
        "        pattern = r'\\b' + re.escape(conectivo) + r'\\b'\n",
        "        texto = re.sub(pattern, \"\", texto, flags=re.IGNORECASE)\n",
        "    return texto\n",
        "\n",
        "def calcular_palavras_frequentes(texto1, texto2):\n",
        "    palavras_texto1 = texto1.split()\n",
        "    palavras_texto2 = texto2.split()\n",
        "\n",
        "    # Calcular as palavras mais frequentes em ambos os textos\n",
        "    frequencias_texto1 = Counter(palavras_texto1)\n",
        "    frequencias_texto2 = Counter(palavras_texto2)\n",
        "\n",
        "    # Encontrar as palavras que estão em ambos os textos\n",
        "    palavras_comuns = set(frequencias_texto1.keys()) & set(frequencias_texto2.keys())\n",
        "\n",
        "    # Criar um dicionário para as frequências das palavras comuns\n",
        "    frequencias_comuns = {palavra: frequencias_texto1[palavra] + frequencias_texto2[palavra] for palavra in palavras_comuns}\n",
        "\n",
        "    return frequencias_comuns\n",
        "\n",
        "def gerar_nuvem_etiquetas(texto1, texto2):\n",
        "    frequencias_comuns = calcular_palavras_frequentes(texto1, texto2)\n",
        "\n",
        "    wordcloud = WordCloud(width=800, height=800, background_color='white', max_words=800).generate_from_frequencies(frequencias_comuns)\n",
        "\n",
        "    plt.figure(figsize=(8, 8), facecolor=None)\n",
        "    plt.imshow(wordcloud)\n",
        "    plt.axis(\"off\")\n",
        "    plt.tight_layout(pad=0)\n",
        "\n",
        "    plt.show()\n",
        "\n",
        "def contar_palavras_comuns(texto1, texto2):\n",
        "    palavras_texto1 = set(texto1.split())\n",
        "    palavras_texto2 = set(texto2.split())\n",
        "\n",
        "    palavras_comuns = palavras_texto1.intersection(palavras_texto2)\n",
        "\n",
        "    return len(palavras_comuns)\n",
        "\n",
        "def main():\n",
        "    print(\"Bem-vindo(a) à ferramenta de geração de nuvem de etiquetas!\")\n",
        "\n",
        "    texto1 = input(\"Digite o primeiro texto: \")\n",
        "    texto2 = input(\"Digite o segundo texto: \")\n",
        "\n",
        "    texto1_sem_conectivos = remove_conectivos_isolados(texto1)\n",
        "    texto2_sem_conectivos = remove_conectivos_isolados(texto2)\n",
        "\n",
        "    gerar_nuvem_etiquetas(texto1_sem_conectivos, texto2_sem_conectivos)\n",
        "\n",
        "    quantidade_palavras_comuns = contar_palavras_comuns(texto1_sem_conectivos, texto2_sem_conectivos)\n",
        "\n",
        "    print(f\"Quantidade de palavras em comum: {quantidade_palavras_comuns}\")\n",
        "\n",
        "if __name__ == \"__main__\":\n",
        "    main()"
      ]
    }
  ]
}